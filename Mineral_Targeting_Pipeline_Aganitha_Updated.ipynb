{
 "cells": [
  {
   "cell_type": "markdown",
   "id": "5ad5e4be",
   "metadata": {},
   "source": [
    "# AI-Based Mineral Targeting Pipeline\n",
    "_Aganitha Space Technologies_"
   ]
  },
  {
   "cell_type": "markdown",
   "id": "6503fdb9",
   "metadata": {},
   "source": [
    "## Step 1: Load and Clean NGCM Dataset"
   ]
  },
  {
   "cell_type": "code",
   "execution_count": null,
   "id": "9a4f323c",
   "metadata": {},
   "outputs": [],
   "source": [
    "\n",
    "import pandas as pd\n",
    "\n",
    "df = pd.read_excel('/mnt/data/NGCM-Stream-Sediment-Analysis-Updated.xlsx')\n",
    "df_clean = df.dropna(subset=['Latitude', 'Longitude', 'U_ppm', 'Ta_ppm', 'Pt_ppb'])\n",
    "df_clean.to_csv('/mnt/data/Cleaned_NGCM.csv', index=False)\n",
    "df_clean.head()\n"
   ]
  },
  {
   "cell_type": "markdown",
   "id": "da528fb7",
   "metadata": {},
   "source": [
    "## Step 2: KMeans Clustering on Elemental Features"
   ]
  },
  {
   "cell_type": "code",
   "execution_count": null,
   "id": "18ca4c70",
   "metadata": {},
   "outputs": [],
   "source": [
    "\n",
    "from sklearn.cluster import KMeans\n",
    "\n",
    "kmeans = KMeans(n_clusters=3, random_state=42)\n",
    "df_clean['Cluster'] = kmeans.fit_predict(df_clean[['U_ppm', 'Ta_ppm']])\n",
    "df_clean.to_csv('/mnt/data/Clustered_NGCM.csv', index=False)\n",
    "df_clean[['U_ppm', 'Ta_ppm', 'Cluster']].head()\n"
   ]
  },
  {
   "cell_type": "markdown",
   "id": "924d062c",
   "metadata": {},
   "source": [
    "## Step 3: Visualize Spatial Distribution of Uranium"
   ]
  },
  {
   "cell_type": "code",
   "execution_count": null,
   "id": "58a02471",
   "metadata": {},
   "outputs": [],
   "source": [
    "\n",
    "import geopandas as gpd\n",
    "import matplotlib.pyplot as plt\n",
    "\n",
    "gdf = gpd.GeoDataFrame(df_clean, geometry=gpd.points_from_xy(df_clean.Longitude, df_clean.Latitude), crs=\"EPSG:4326\")\n",
    "\n",
    "fig, ax = plt.subplots(figsize=(8, 6))\n",
    "gdf.plot(column='U_ppm', cmap='viridis', legend=True, ax=ax)\n",
    "plt.title(\"Uranium (U_ppm) Spatial Distribution\")\n",
    "plt.xlabel(\"Longitude\")\n",
    "plt.ylabel(\"Latitude\")\n",
    "plt.show()\n"
   ]
  },
  {
   "cell_type": "markdown",
   "id": "c207e1bf",
   "metadata": {},
   "source": [
    "## Step 4: Histograms of Key Element Distributions"
   ]
  },
  {
   "cell_type": "code",
   "execution_count": null,
   "id": "94b30040",
   "metadata": {},
   "outputs": [],
   "source": [
    "\n",
    "import seaborn as sns\n",
    "\n",
    "fig, axes = plt.subplots(2, 3, figsize=(14, 8))\n",
    "cols = ['Ni_ppm', 'Co_ppm', 'Cr_ppm', 'U_ppm', 'Au_ppb']\n",
    "\n",
    "for i, col in enumerate(cols):\n",
    "    ax = axes[i//3, i%3]\n",
    "    sns.histplot(df_clean[col], kde=False, ax=ax, color='orange', edgecolor='black')\n",
    "    ax.set_title(f\"{col} Concentration Distribution\")\n",
    "\n",
    "plt.tight_layout()\n",
    "plt.show()\n"
   ]
  },
  {
   "cell_type": "markdown",
   "id": "7e5becfd",
   "metadata": {},
   "source": [
    "## Step 5: Elemental Correlation Heatmap"
   ]
  },
  {
   "cell_type": "code",
   "execution_count": null,
   "id": "3f4affaf",
   "metadata": {},
   "outputs": [],
   "source": [
    "\n",
    "import seaborn as sns\n",
    "import matplotlib.pyplot as plt\n",
    "\n",
    "correlation_matrix = df_clean[['U_ppm', 'Ta_ppm', 'Pt_ppb', 'Pd_ppb', 'Co_ppm', 'Ni_ppm', 'Cr_ppm', 'Au_ppb']].corr()\n",
    "plt.figure(figsize=(10, 6))\n",
    "sns.heatmap(correlation_matrix, annot=True, cmap='coolwarm', linewidths=0.5)\n",
    "plt.title(\"Elemental Correlation Matrix\")\n",
    "plt.show()\n"
   ]
  },
  {
   "cell_type": "markdown",
   "id": "a8a035a2",
   "metadata": {},
   "source": [
    "## Step 6: Principal Component Analysis (PCA)"
   ]
  },
  {
   "cell_type": "code",
   "execution_count": null,
   "id": "00209206",
   "metadata": {},
   "outputs": [],
   "source": [
    "\n",
    "from sklearn.decomposition import PCA\n",
    "from sklearn.preprocessing import StandardScaler\n",
    "import numpy as np\n",
    "\n",
    "features = ['U_ppm', 'Ta_ppm', 'Pt_ppb', 'Pd_ppb', 'Co_ppm', 'Ni_ppm', 'Cr_ppm', 'Au_ppb']\n",
    "X = df_clean[features].dropna()\n",
    "X_scaled = StandardScaler().fit_transform(X)\n",
    "\n",
    "pca = PCA(n_components=2)\n",
    "principal_components = pca.fit_transform(X_scaled)\n",
    "df_pca = pd.DataFrame(data=principal_components, columns=['PC1', 'PC2'])\n",
    "\n",
    "plt.figure(figsize=(8, 6))\n",
    "sns.scatterplot(x='PC1', y='PC2', data=df_pca)\n",
    "plt.title(\"PCA of Elemental Features\")\n",
    "plt.xlabel(f\"PC1 ({pca.explained_variance_ratio_[0]*100:.1f}% variance)\")\n",
    "plt.ylabel(f\"PC2 ({pca.explained_variance_ratio_[1]*100:.1f}% variance)\")\n",
    "plt.grid(True)\n",
    "plt.show()\n"
   ]
  }
 ],
 "metadata": {},
 "nbformat": 4,
 "nbformat_minor": 5
}
